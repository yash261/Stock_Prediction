{
 "cells": [
  {
   "cell_type": "code",
   "execution_count": 1,
   "metadata": {},
   "outputs": [
    {
     "name": "stdout",
     "output_type": "stream",
     "text": [
      "Collecting pandas-datareader\n",
      "  Downloading pandas_datareader-0.9.0-py3-none-any.whl (107 kB)\n",
      "Requirement already satisfied: lxml in c:\\users\\yash\\anaconda3\\lib\\site-packages (from pandas-datareader) (4.6.1)\n",
      "Requirement already satisfied: requests>=2.19.0 in c:\\users\\yash\\anaconda3\\lib\\site-packages (from pandas-datareader) (2.24.0)\n",
      "Requirement already satisfied: pandas>=0.23 in c:\\users\\yash\\anaconda3\\lib\\site-packages (from pandas-datareader) (1.1.3)\n",
      "Requirement already satisfied: idna<3,>=2.5 in c:\\users\\yash\\anaconda3\\lib\\site-packages (from requests>=2.19.0->pandas-datareader) (2.10)\n",
      "Requirement already satisfied: chardet<4,>=3.0.2 in c:\\users\\yash\\anaconda3\\lib\\site-packages (from requests>=2.19.0->pandas-datareader) (3.0.4)\n",
      "Requirement already satisfied: certifi>=2017.4.17 in c:\\users\\yash\\anaconda3\\lib\\site-packages (from requests>=2.19.0->pandas-datareader) (2020.6.20)\n",
      "Requirement already satisfied: urllib3!=1.25.0,!=1.25.1,<1.26,>=1.21.1 in c:\\users\\yash\\anaconda3\\lib\\site-packages (from requests>=2.19.0->pandas-datareader) (1.25.11)\n",
      "Requirement already satisfied: numpy>=1.15.4 in c:\\users\\yash\\anaconda3\\lib\\site-packages (from pandas>=0.23->pandas-datareader) (1.19.2)\n",
      "Requirement already satisfied: python-dateutil>=2.7.3 in c:\\users\\yash\\anaconda3\\lib\\site-packages (from pandas>=0.23->pandas-datareader) (2.8.1)\n",
      "Requirement already satisfied: pytz>=2017.2 in c:\\users\\yash\\anaconda3\\lib\\site-packages (from pandas>=0.23->pandas-datareader) (2020.1)\n",
      "Requirement already satisfied: six>=1.5 in c:\\users\\yash\\anaconda3\\lib\\site-packages (from python-dateutil>=2.7.3->pandas>=0.23->pandas-datareader) (1.15.0)\n",
      "Installing collected packages: pandas-datareader\n",
      "Successfully installed pandas-datareader-0.9.0\n"
     ]
    }
   ],
   "source": [
    "!pip install pandas-datareader"
   ]
  },
  {
   "cell_type": "code",
   "execution_count": 143,
   "metadata": {},
   "outputs": [],
   "source": [
    "import pandas_datareader as pdr\n",
    "import pandas as pd\n",
    "import matplotlib.pyplot as plt"
   ]
  },
  {
   "cell_type": "code",
   "execution_count": 144,
   "metadata": {},
   "outputs": [],
   "source": [
    "df=pdr.get_data_tiingo(\"TSLA\",api_key='195c5f38b64cffafcac41f18609d1b1bdec2a705')"
   ]
  },
  {
   "cell_type": "code",
   "execution_count": 145,
   "metadata": {},
   "outputs": [],
   "source": [
    "df=df.reset_index()"
   ]
  },
  {
   "cell_type": "code",
   "execution_count": 146,
   "metadata": {},
   "outputs": [],
   "source": [
    "df=pd.DataFrame(df)"
   ]
  },
  {
   "cell_type": "code",
   "execution_count": 147,
   "metadata": {},
   "outputs": [
    {
     "data": {
      "text/html": [
       "<div>\n",
       "<style scoped>\n",
       "    .dataframe tbody tr th:only-of-type {\n",
       "        vertical-align: middle;\n",
       "    }\n",
       "\n",
       "    .dataframe tbody tr th {\n",
       "        vertical-align: top;\n",
       "    }\n",
       "\n",
       "    .dataframe thead th {\n",
       "        text-align: right;\n",
       "    }\n",
       "</style>\n",
       "<table border=\"1\" class=\"dataframe\">\n",
       "  <thead>\n",
       "    <tr style=\"text-align: right;\">\n",
       "      <th></th>\n",
       "      <th>symbol</th>\n",
       "      <th>date</th>\n",
       "      <th>close</th>\n",
       "      <th>high</th>\n",
       "      <th>low</th>\n",
       "      <th>open</th>\n",
       "      <th>volume</th>\n",
       "      <th>adjClose</th>\n",
       "      <th>adjHigh</th>\n",
       "      <th>adjLow</th>\n",
       "      <th>adjOpen</th>\n",
       "      <th>adjVolume</th>\n",
       "      <th>divCash</th>\n",
       "      <th>splitFactor</th>\n",
       "    </tr>\n",
       "  </thead>\n",
       "  <tbody>\n",
       "    <tr>\n",
       "      <th>0</th>\n",
       "      <td>TSLA</td>\n",
       "      <td>2016-03-11 00:00:00+00:00</td>\n",
       "      <td>207.50</td>\n",
       "      <td>209.4200</td>\n",
       "      <td>205.330</td>\n",
       "      <td>207.93</td>\n",
       "      <td>3343077</td>\n",
       "      <td>41.500</td>\n",
       "      <td>41.8840</td>\n",
       "      <td>41.066</td>\n",
       "      <td>41.586</td>\n",
       "      <td>16715385</td>\n",
       "      <td>0.0</td>\n",
       "      <td>1.0</td>\n",
       "    </tr>\n",
       "    <tr>\n",
       "      <th>1</th>\n",
       "      <td>TSLA</td>\n",
       "      <td>2016-03-14 00:00:00+00:00</td>\n",
       "      <td>215.15</td>\n",
       "      <td>216.7200</td>\n",
       "      <td>210.640</td>\n",
       "      <td>212.65</td>\n",
       "      <td>4065706</td>\n",
       "      <td>43.030</td>\n",
       "      <td>43.3440</td>\n",
       "      <td>42.128</td>\n",
       "      <td>42.530</td>\n",
       "      <td>20328530</td>\n",
       "      <td>0.0</td>\n",
       "      <td>1.0</td>\n",
       "    </tr>\n",
       "    <tr>\n",
       "      <th>2</th>\n",
       "      <td>TSLA</td>\n",
       "      <td>2016-03-15 00:00:00+00:00</td>\n",
       "      <td>218.34</td>\n",
       "      <td>218.9700</td>\n",
       "      <td>211.500</td>\n",
       "      <td>214.27</td>\n",
       "      <td>3180452</td>\n",
       "      <td>43.668</td>\n",
       "      <td>43.7940</td>\n",
       "      <td>42.300</td>\n",
       "      <td>42.854</td>\n",
       "      <td>15902260</td>\n",
       "      <td>0.0</td>\n",
       "      <td>1.0</td>\n",
       "    </tr>\n",
       "    <tr>\n",
       "      <th>3</th>\n",
       "      <td>TSLA</td>\n",
       "      <td>2016-03-16 00:00:00+00:00</td>\n",
       "      <td>221.93</td>\n",
       "      <td>222.5800</td>\n",
       "      <td>217.020</td>\n",
       "      <td>218.00</td>\n",
       "      <td>3516703</td>\n",
       "      <td>44.386</td>\n",
       "      <td>44.5160</td>\n",
       "      <td>43.404</td>\n",
       "      <td>43.600</td>\n",
       "      <td>17583515</td>\n",
       "      <td>0.0</td>\n",
       "      <td>1.0</td>\n",
       "    </tr>\n",
       "    <tr>\n",
       "      <th>4</th>\n",
       "      <td>TSLA</td>\n",
       "      <td>2016-03-17 00:00:00+00:00</td>\n",
       "      <td>226.38</td>\n",
       "      <td>228.5000</td>\n",
       "      <td>220.000</td>\n",
       "      <td>221.47</td>\n",
       "      <td>3782891</td>\n",
       "      <td>45.276</td>\n",
       "      <td>45.7000</td>\n",
       "      <td>44.000</td>\n",
       "      <td>44.294</td>\n",
       "      <td>18914455</td>\n",
       "      <td>0.0</td>\n",
       "      <td>1.0</td>\n",
       "    </tr>\n",
       "    <tr>\n",
       "      <th>...</th>\n",
       "      <td>...</td>\n",
       "      <td>...</td>\n",
       "      <td>...</td>\n",
       "      <td>...</td>\n",
       "      <td>...</td>\n",
       "      <td>...</td>\n",
       "      <td>...</td>\n",
       "      <td>...</td>\n",
       "      <td>...</td>\n",
       "      <td>...</td>\n",
       "      <td>...</td>\n",
       "      <td>...</td>\n",
       "      <td>...</td>\n",
       "      <td>...</td>\n",
       "    </tr>\n",
       "    <tr>\n",
       "      <th>1252</th>\n",
       "      <td>TSLA</td>\n",
       "      <td>2021-03-03 00:00:00+00:00</td>\n",
       "      <td>653.20</td>\n",
       "      <td>700.7000</td>\n",
       "      <td>651.705</td>\n",
       "      <td>687.99</td>\n",
       "      <td>30207960</td>\n",
       "      <td>653.200</td>\n",
       "      <td>700.7000</td>\n",
       "      <td>651.705</td>\n",
       "      <td>687.990</td>\n",
       "      <td>30207960</td>\n",
       "      <td>0.0</td>\n",
       "      <td>1.0</td>\n",
       "    </tr>\n",
       "    <tr>\n",
       "      <th>1253</th>\n",
       "      <td>TSLA</td>\n",
       "      <td>2021-03-04 00:00:00+00:00</td>\n",
       "      <td>621.44</td>\n",
       "      <td>668.4500</td>\n",
       "      <td>600.000</td>\n",
       "      <td>655.80</td>\n",
       "      <td>64799898</td>\n",
       "      <td>621.440</td>\n",
       "      <td>668.4500</td>\n",
       "      <td>600.000</td>\n",
       "      <td>655.800</td>\n",
       "      <td>64799898</td>\n",
       "      <td>0.0</td>\n",
       "      <td>1.0</td>\n",
       "    </tr>\n",
       "    <tr>\n",
       "      <th>1254</th>\n",
       "      <td>TSLA</td>\n",
       "      <td>2021-03-05 00:00:00+00:00</td>\n",
       "      <td>597.95</td>\n",
       "      <td>627.8419</td>\n",
       "      <td>539.490</td>\n",
       "      <td>626.06</td>\n",
       "      <td>89396459</td>\n",
       "      <td>597.950</td>\n",
       "      <td>627.8419</td>\n",
       "      <td>539.490</td>\n",
       "      <td>626.060</td>\n",
       "      <td>89396459</td>\n",
       "      <td>0.0</td>\n",
       "      <td>1.0</td>\n",
       "    </tr>\n",
       "    <tr>\n",
       "      <th>1255</th>\n",
       "      <td>TSLA</td>\n",
       "      <td>2021-03-08 00:00:00+00:00</td>\n",
       "      <td>563.00</td>\n",
       "      <td>620.1250</td>\n",
       "      <td>558.790</td>\n",
       "      <td>600.55</td>\n",
       "      <td>51786958</td>\n",
       "      <td>563.000</td>\n",
       "      <td>620.1250</td>\n",
       "      <td>558.790</td>\n",
       "      <td>600.550</td>\n",
       "      <td>51786958</td>\n",
       "      <td>0.0</td>\n",
       "      <td>1.0</td>\n",
       "    </tr>\n",
       "    <tr>\n",
       "      <th>1256</th>\n",
       "      <td>TSLA</td>\n",
       "      <td>2021-03-09 00:00:00+00:00</td>\n",
       "      <td>673.58</td>\n",
       "      <td>678.0900</td>\n",
       "      <td>595.210</td>\n",
       "      <td>608.18</td>\n",
       "      <td>67523328</td>\n",
       "      <td>673.580</td>\n",
       "      <td>678.0900</td>\n",
       "      <td>595.210</td>\n",
       "      <td>608.180</td>\n",
       "      <td>67523328</td>\n",
       "      <td>0.0</td>\n",
       "      <td>1.0</td>\n",
       "    </tr>\n",
       "  </tbody>\n",
       "</table>\n",
       "<p>1257 rows × 14 columns</p>\n",
       "</div>"
      ],
      "text/plain": [
       "     symbol                      date   close      high      low    open  \\\n",
       "0      TSLA 2016-03-11 00:00:00+00:00  207.50  209.4200  205.330  207.93   \n",
       "1      TSLA 2016-03-14 00:00:00+00:00  215.15  216.7200  210.640  212.65   \n",
       "2      TSLA 2016-03-15 00:00:00+00:00  218.34  218.9700  211.500  214.27   \n",
       "3      TSLA 2016-03-16 00:00:00+00:00  221.93  222.5800  217.020  218.00   \n",
       "4      TSLA 2016-03-17 00:00:00+00:00  226.38  228.5000  220.000  221.47   \n",
       "...     ...                       ...     ...       ...      ...     ...   \n",
       "1252   TSLA 2021-03-03 00:00:00+00:00  653.20  700.7000  651.705  687.99   \n",
       "1253   TSLA 2021-03-04 00:00:00+00:00  621.44  668.4500  600.000  655.80   \n",
       "1254   TSLA 2021-03-05 00:00:00+00:00  597.95  627.8419  539.490  626.06   \n",
       "1255   TSLA 2021-03-08 00:00:00+00:00  563.00  620.1250  558.790  600.55   \n",
       "1256   TSLA 2021-03-09 00:00:00+00:00  673.58  678.0900  595.210  608.18   \n",
       "\n",
       "        volume  adjClose   adjHigh   adjLow  adjOpen  adjVolume  divCash  \\\n",
       "0      3343077    41.500   41.8840   41.066   41.586   16715385      0.0   \n",
       "1      4065706    43.030   43.3440   42.128   42.530   20328530      0.0   \n",
       "2      3180452    43.668   43.7940   42.300   42.854   15902260      0.0   \n",
       "3      3516703    44.386   44.5160   43.404   43.600   17583515      0.0   \n",
       "4      3782891    45.276   45.7000   44.000   44.294   18914455      0.0   \n",
       "...        ...       ...       ...      ...      ...        ...      ...   \n",
       "1252  30207960   653.200  700.7000  651.705  687.990   30207960      0.0   \n",
       "1253  64799898   621.440  668.4500  600.000  655.800   64799898      0.0   \n",
       "1254  89396459   597.950  627.8419  539.490  626.060   89396459      0.0   \n",
       "1255  51786958   563.000  620.1250  558.790  600.550   51786958      0.0   \n",
       "1256  67523328   673.580  678.0900  595.210  608.180   67523328      0.0   \n",
       "\n",
       "      splitFactor  \n",
       "0             1.0  \n",
       "1             1.0  \n",
       "2             1.0  \n",
       "3             1.0  \n",
       "4             1.0  \n",
       "...           ...  \n",
       "1252          1.0  \n",
       "1253          1.0  \n",
       "1254          1.0  \n",
       "1255          1.0  \n",
       "1256          1.0  \n",
       "\n",
       "[1257 rows x 14 columns]"
      ]
     },
     "execution_count": 147,
     "metadata": {},
     "output_type": "execute_result"
    }
   ],
   "source": [
    "df"
   ]
  },
  {
   "cell_type": "code",
   "execution_count": 148,
   "metadata": {},
   "outputs": [
    {
     "data": {
      "text/plain": [
       "[<matplotlib.lines.Line2D at 0x15bcd58f340>]"
      ]
     },
     "execution_count": 148,
     "metadata": {},
     "output_type": "execute_result"
    },
    {
     "data": {
      "image/png": "[encoded data removed]",
      "text/plain": [
       "<Figure size 432x288 with 1 Axes>"
      ]
     },
     "metadata": {
      "needs_background": "light"
     },
     "output_type": "display_data"
    }
   ],
   "source": [
    "plt.plot(df[\"close\"])"
   ]
  },
  {
   "cell_type": "code",
   "execution_count": 149,
   "metadata": {},
   "outputs": [],
   "source": [
    "from sklearn.preprocessing import MinMaxScaler\n",
    "import numpy as np"
   ]
  },
  {
   "cell_type": "code",
   "execution_count": 150,
   "metadata": {},
   "outputs": [],
   "source": [
    "scaler=MinMaxScaler(feature_range=(0,1))\n",
    "df1=np.array(df[\"close\"])\n",
    "df1=df1.reshape(-1,1)"
   ]
  },
  {
   "cell_type": "code",
   "execution_count": 151,
   "metadata": {},
   "outputs": [],
   "source": [
    "df1=scaler.fit_transform(df1)"
   ]
  },
  {
   "cell_type": "code",
   "execution_count": 152,
   "metadata": {},
   "outputs": [
    {
     "data": {
      "text/plain": [
       "array([[0.01385099],\n",
       "       [0.01756498],\n",
       "       [0.01911369],\n",
       "       ...,\n",
       "       [0.20341007],\n",
       "       [0.18644224],\n",
       "       [0.24012759]])"
      ]
     },
     "execution_count": 152,
     "metadata": {},
     "output_type": "execute_result"
    }
   ],
   "source": [
    "df1"
   ]
  },
  {
   "cell_type": "code",
   "execution_count": 153,
   "metadata": {},
   "outputs": [
    {
     "data": {
      "text/plain": [
       "[<matplotlib.lines.Line2D at 0x15bcd77b6a0>]"
      ]
     },
     "execution_count": 153,
     "metadata": {},
     "output_type": "execute_result"
    },
    {
     "data": {
      "image/png": "[encoded data removed]",
      "text/plain": [
       "<Figure size 432x288 with 1 Axes>"
      ]
     },
     "metadata": {
      "needs_background": "light"
     },
     "output_type": "display_data"
    }
   ],
   "source": [
    "plt.plot(df1)"
   ]
  },
  {
   "cell_type": "code",
   "execution_count": 154,
   "metadata": {},
   "outputs": [],
   "source": [
    "l=len(df1)*70//100"
   ]
  },
  {
   "cell_type": "code",
   "execution_count": 155,
   "metadata": {},
   "outputs": [],
   "source": [
    "train_data,test_data=df1[:l],df1[l+1:]"
   ]
  },
  {
   "cell_type": "code",
   "execution_count": 156,
   "metadata": {},
   "outputs": [],
   "source": [
    "# convert an array of values into a dataset matrix\n",
    "def create_dataset(dataset, time_step=1):\n",
    "    dataX, dataY = [], []\n",
    "    for i in range(len(dataset)-time_step-1):\n",
    "        a = dataset[i:(i+time_step), 0]   ###i=0, 0,1,2,3-----99   100 \n",
    "        dataX.append(a)\n",
    "        dataY.append(dataset[i + time_step, 0])\n",
    "    return np.array(dataX), np.array(dataY)"
   ]
  },
  {
   "cell_type": "code",
   "execution_count": 157,
   "metadata": {},
   "outputs": [],
   "source": [
    "time_step = 100\n",
    "X_train, Y_train = create_dataset(train_data, time_step)\n",
    "X_test, Y_test = create_dataset(test_data, time_step)"
   ]
  },
  {
   "cell_type": "code",
   "execution_count": 158,
   "metadata": {},
   "outputs": [],
   "source": [
    "X_train.shape,Y_train.shape,X_test.shape,Y_test.shape\n",
    "X_train=X_train.reshape(X_train.shape[0],X_train.shape[1],1)\n",
    "X_test=X_test.reshape(X_test.shape[0],X_test.shape[1],1)"
   ]
  },
  {
   "cell_type": "code",
   "execution_count": 159,
   "metadata": {},
   "outputs": [],
   "source": [
    "from tensorflow.keras.models import Sequential\n",
    "from tensorflow.keras.layers import Dense,LSTM"
   ]
  },
  {
   "cell_type": "code",
   "execution_count": 160,
   "metadata": {},
   "outputs": [],
   "source": [
    "model=Sequential()"
   ]
  },
  {
   "cell_type": "code",
   "execution_count": 161,
   "metadata": {},
   "outputs": [],
   "source": [
    "model=Sequential()\n",
    "model.add(LSTM(50,return_sequences=True,input_shape=(100,1)))\n",
    "model.add(LSTM(50,return_sequences=True))\n",
    "model.add(LSTM(50))\n",
    "model.add(Dense(1))\n",
    "model.compile(loss='mean_squared_error',optimizer='adam')"
   ]
  },
  {
   "cell_type": "code",
   "execution_count": 162,
   "metadata": {},
   "outputs": [
    {
     "name": "stdout",
     "output_type": "stream",
     "text": [
      "Model: \"sequential_5\"\n",
      "_________________________________________________________________\n",
      "Layer (type)                 Output Shape              Param #   \n",
      "=================================================================\n",
      "lstm_5 (LSTM)                (None, 100, 50)           10400     \n",
      "_________________________________________________________________\n",
      "lstm_6 (LSTM)                (None, 100, 50)           20200     \n",
      "_________________________________________________________________\n",
      "lstm_7 (LSTM)                (None, 50)                20200     \n",
      "_________________________________________________________________\n",
      "dense_2 (Dense)              (None, 1)                 51        \n",
      "=================================================================\n",
      "Total params: 50,851\n",
      "Trainable params: 50,851\n",
      "Non-trainable params: 0\n",
      "_________________________________________________________________\n"
     ]
    }
   ],
   "source": [
    "model.summary()"
   ]
  },
  {
   "cell_type": "code",
   "execution_count": 163,
   "metadata": {},
   "outputs": [
    {
     "name": "stdout",
     "output_type": "stream",
     "text": [
      "Epoch 1/100\n",
      "13/13 [==============================] - 7s 188ms/step - loss: 0.0016 - val_loss: 0.0636\n",
      "Epoch 2/100\n",
      "13/13 [==============================] - 2s 125ms/step - loss: 3.7596e-04 - val_loss: 0.0351\n",
      "Epoch 3/100\n",
      "13/13 [==============================] - 2s 126ms/step - loss: 1.7505e-04 - val_loss: 0.0222\n",
      "Epoch 4/100\n",
      "13/13 [==============================] - 2s 123ms/step - loss: 1.3062e-04 - val_loss: 0.0231\n",
      "Epoch 5/100\n",
      "13/13 [==============================] - 2s 124ms/step - loss: 1.4096e-04 - val_loss: 0.0195\n",
      "Epoch 6/100\n",
      "13/13 [==============================] - 2s 126ms/step - loss: 1.3169e-04 - val_loss: 0.0197\n",
      "Epoch 7/100\n",
      "13/13 [==============================] - 2s 127ms/step - loss: 1.0715e-04 - val_loss: 0.0181\n",
      "Epoch 8/100\n",
      "13/13 [==============================] - 2s 123ms/step - loss: 1.0343e-04 - val_loss: 0.0186\n",
      "Epoch 9/100\n",
      "13/13 [==============================] - 2s 124ms/step - loss: 1.1505e-04 - val_loss: 0.0175\n",
      "Epoch 10/100\n",
      "13/13 [==============================] - 2s 125ms/step - loss: 1.0110e-04 - val_loss: 0.0167\n",
      "Epoch 11/100\n",
      "13/13 [==============================] - 2s 126ms/step - loss: 9.3229e-05 - val_loss: 0.0164\n",
      "Epoch 12/100\n",
      "13/13 [==============================] - 2s 125ms/step - loss: 9.1796e-05 - val_loss: 0.0156\n",
      "Epoch 13/100\n",
      "13/13 [==============================] - 2s 125ms/step - loss: 9.3913e-05 - val_loss: 0.0155\n",
      "Epoch 14/100\n",
      "13/13 [==============================] - 2s 125ms/step - loss: 8.6252e-05 - val_loss: 0.0152\n",
      "Epoch 15/100\n",
      "13/13 [==============================] - 2s 125ms/step - loss: 8.5544e-05 - val_loss: 0.0150\n",
      "Epoch 16/100\n",
      "13/13 [==============================] - 2s 127ms/step - loss: 8.3043e-05 - val_loss: 0.0142\n",
      "Epoch 17/100\n",
      "13/13 [==============================] - 2s 122ms/step - loss: 8.4148e-05 - val_loss: 0.0151\n",
      "Epoch 18/100\n",
      "13/13 [==============================] - 2s 123ms/step - loss: 9.6939e-05 - val_loss: 0.0136\n",
      "Epoch 19/100\n",
      "13/13 [==============================] - 2s 124ms/step - loss: 7.9306e-05 - val_loss: 0.0153\n",
      "Epoch 20/100\n",
      "13/13 [==============================] - 2s 123ms/step - loss: 9.4549e-05 - val_loss: 0.0134\n",
      "Epoch 21/100\n",
      "13/13 [==============================] - 2s 123ms/step - loss: 7.1814e-05 - val_loss: 0.0133\n",
      "Epoch 22/100\n",
      "13/13 [==============================] - 2s 123ms/step - loss: 7.5428e-05 - val_loss: 0.0127\n",
      "Epoch 23/100\n",
      "13/13 [==============================] - 2s 123ms/step - loss: 7.0568e-05 - val_loss: 0.0125\n",
      "Epoch 24/100\n",
      "13/13 [==============================] - 2s 126ms/step - loss: 6.9381e-05 - val_loss: 0.0129\n",
      "Epoch 25/100\n",
      "13/13 [==============================] - 2s 122ms/step - loss: 7.1092e-05 - val_loss: 0.0125\n",
      "Epoch 26/100\n",
      "13/13 [==============================] - 2s 125ms/step - loss: 6.7994e-05 - val_loss: 0.0119\n",
      "Epoch 27/100\n",
      "13/13 [==============================] - 2s 122ms/step - loss: 6.8031e-05 - val_loss: 0.0111\n",
      "Epoch 28/100\n",
      "13/13 [==============================] - 2s 125ms/step - loss: 6.5120e-05 - val_loss: 0.0131\n",
      "Epoch 29/100\n",
      "13/13 [==============================] - 2s 123ms/step - loss: 6.4892e-05 - val_loss: 0.0116\n",
      "Epoch 30/100\n",
      "13/13 [==============================] - 2s 123ms/step - loss: 5.6571e-05 - val_loss: 0.0129\n",
      "Epoch 31/100\n",
      "13/13 [==============================] - 2s 124ms/step - loss: 6.3496e-05 - val_loss: 0.0109\n",
      "Epoch 32/100\n",
      "13/13 [==============================] - 2s 122ms/step - loss: 5.5896e-05 - val_loss: 0.0109\n",
      "Epoch 33/100\n",
      "13/13 [==============================] - 2s 123ms/step - loss: 5.5561e-05 - val_loss: 0.0141\n",
      "Epoch 34/100\n",
      "13/13 [==============================] - 2s 122ms/step - loss: 6.4690e-05 - val_loss: 0.0105\n",
      "Epoch 35/100\n",
      "13/13 [==============================] - 2s 122ms/step - loss: 6.2519e-05 - val_loss: 0.0111\n",
      "Epoch 36/100\n",
      "13/13 [==============================] - 2s 123ms/step - loss: 6.9826e-05 - val_loss: 0.0131\n",
      "Epoch 37/100\n",
      "13/13 [==============================] - 2s 123ms/step - loss: 6.3444e-05 - val_loss: 0.0109\n",
      "Epoch 38/100\n",
      "13/13 [==============================] - 2s 123ms/step - loss: 5.4213e-05 - val_loss: 0.0108\n",
      "Epoch 39/100\n",
      "13/13 [==============================] - 2s 139ms/step - loss: 5.4324e-05 - val_loss: 0.0113\n",
      "Epoch 40/100\n",
      "13/13 [==============================] - 2s 131ms/step - loss: 5.3690e-05 - val_loss: 0.0098\n",
      "Epoch 41/100\n",
      "13/13 [==============================] - 2s 123ms/step - loss: 5.0981e-05 - val_loss: 0.0117\n",
      "Epoch 42/100\n",
      "13/13 [==============================] - 2s 122ms/step - loss: 4.8087e-05 - val_loss: 0.0103\n",
      "Epoch 43/100\n",
      "13/13 [==============================] - 2s 123ms/step - loss: 4.5585e-05 - val_loss: 0.0109\n",
      "Epoch 44/100\n",
      "13/13 [==============================] - 2s 126ms/step - loss: 5.0769e-05 - val_loss: 0.0102\n",
      "Epoch 45/100\n",
      "13/13 [==============================] - 2s 126ms/step - loss: 5.1108e-05 - val_loss: 0.0102\n",
      "Epoch 46/100\n",
      "13/13 [==============================] - 2s 121ms/step - loss: 4.4583e-05 - val_loss: 0.0105\n",
      "Epoch 47/100\n",
      "13/13 [==============================] - 2s 123ms/step - loss: 4.3494e-05 - val_loss: 0.0109\n",
      "Epoch 48/100\n",
      "13/13 [==============================] - 2s 123ms/step - loss: 4.0945e-05 - val_loss: 0.0117\n",
      "Epoch 49/100\n",
      "13/13 [==============================] - 2s 122ms/step - loss: 4.3259e-05 - val_loss: 0.0094\n",
      "Epoch 50/100\n",
      "13/13 [==============================] - 2s 126ms/step - loss: 4.4034e-05 - val_loss: 0.0119\n",
      "Epoch 51/100\n",
      "13/13 [==============================] - 2s 122ms/step - loss: 4.6626e-05 - val_loss: 0.0095\n",
      "Epoch 52/100\n",
      "13/13 [==============================] - 2s 122ms/step - loss: 3.7319e-05 - val_loss: 0.0117\n",
      "Epoch 53/100\n",
      "13/13 [==============================] - 2s 123ms/step - loss: 4.7377e-05 - val_loss: 0.0081\n",
      "Epoch 54/100\n",
      "13/13 [==============================] - 2s 120ms/step - loss: 4.4448e-05 - val_loss: 0.0104\n",
      "Epoch 55/100\n",
      "13/13 [==============================] - 2s 120ms/step - loss: 3.8095e-05 - val_loss: 0.0107\n",
      "Epoch 56/100\n",
      "13/13 [==============================] - 2s 122ms/step - loss: 4.3477e-05 - val_loss: 0.0118\n",
      "Epoch 57/100\n",
      "13/13 [==============================] - 2s 122ms/step - loss: 4.0930e-05 - val_loss: 0.0096\n",
      "Epoch 58/100\n",
      "13/13 [==============================] - 2s 122ms/step - loss: 3.9221e-05 - val_loss: 0.0085\n",
      "Epoch 59/100\n",
      "13/13 [==============================] - 2s 122ms/step - loss: 3.6697e-05 - val_loss: 0.0098\n",
      "Epoch 60/100\n",
      "13/13 [==============================] - 2s 127ms/step - loss: 3.9701e-05 - val_loss: 0.0103\n",
      "Epoch 61/100\n",
      "13/13 [==============================] - 2s 133ms/step - loss: 3.8729e-05 - val_loss: 0.0114\n",
      "Epoch 62/100\n",
      "13/13 [==============================] - 2s 129ms/step - loss: 4.9259e-05 - val_loss: 0.0085\n",
      "Epoch 63/100\n",
      "13/13 [==============================] - 2s 130ms/step - loss: 3.8126e-05 - val_loss: 0.0097\n",
      "Epoch 64/100\n",
      "13/13 [==============================] - 2s 124ms/step - loss: 3.7482e-05 - val_loss: 0.0101\n",
      "Epoch 65/100\n",
      "13/13 [==============================] - 2s 122ms/step - loss: 4.1587e-05 - val_loss: 0.0090\n",
      "Epoch 66/100\n",
      "13/13 [==============================] - 2s 121ms/step - loss: 4.1983e-05 - val_loss: 0.0093\n",
      "Epoch 67/100\n",
      "13/13 [==============================] - 2s 122ms/step - loss: 4.2394e-05 - val_loss: 0.0086\n",
      "Epoch 68/100\n",
      "13/13 [==============================] - 2s 124ms/step - loss: 4.0054e-05 - val_loss: 0.0108\n",
      "Epoch 69/100\n",
      "13/13 [==============================] - 2s 123ms/step - loss: 3.0536e-05 - val_loss: 0.0106\n",
      "Epoch 70/100\n",
      "13/13 [==============================] - 2s 123ms/step - loss: 3.2608e-05 - val_loss: 0.0096\n",
      "Epoch 71/100\n",
      "13/13 [==============================] - 2s 123ms/step - loss: 3.3975e-05 - val_loss: 0.0081\n",
      "Epoch 72/100\n",
      "13/13 [==============================] - 2s 123ms/step - loss: 2.9729e-05 - val_loss: 0.0097\n",
      "Epoch 73/100\n",
      "13/13 [==============================] - 2s 122ms/step - loss: 3.4336e-05 - val_loss: 0.0097\n",
      "Epoch 74/100\n",
      "13/13 [==============================] - 2s 121ms/step - loss: 3.0698e-05 - val_loss: 0.0092\n",
      "Epoch 75/100\n",
      "13/13 [==============================] - 2s 125ms/step - loss: 3.0727e-05 - val_loss: 0.0109\n",
      "Epoch 76/100\n",
      "13/13 [==============================] - 2s 122ms/step - loss: 3.2062e-05 - val_loss: 0.0094\n",
      "Epoch 77/100\n",
      "13/13 [==============================] - 2s 128ms/step - loss: 3.0239e-05 - val_loss: 0.0086\n",
      "Epoch 78/100\n"
     ]
    },
    {
     "name": "stdout",
     "output_type": "stream",
     "text": [
      "13/13 [==============================] - 2s 124ms/step - loss: 3.1954e-05 - val_loss: 0.0094\n",
      "Epoch 79/100\n",
      "13/13 [==============================] - 2s 123ms/step - loss: 2.8945e-05 - val_loss: 0.0095\n",
      "Epoch 80/100\n",
      "13/13 [==============================] - 2s 121ms/step - loss: 3.2650e-05 - val_loss: 0.0097\n",
      "Epoch 81/100\n",
      "13/13 [==============================] - 2s 122ms/step - loss: 2.9107e-05 - val_loss: 0.0091\n",
      "Epoch 82/100\n",
      "13/13 [==============================] - 2s 122ms/step - loss: 3.0208e-05 - val_loss: 0.0092\n",
      "Epoch 83/100\n",
      "13/13 [==============================] - 2s 122ms/step - loss: 3.3429e-05 - val_loss: 0.0091\n",
      "Epoch 84/100\n",
      "13/13 [==============================] - 2s 122ms/step - loss: 2.8217e-05 - val_loss: 0.0094\n",
      "Epoch 85/100\n",
      "13/13 [==============================] - 2s 120ms/step - loss: 2.9596e-05 - val_loss: 0.0092\n",
      "Epoch 86/100\n",
      "13/13 [==============================] - 2s 122ms/step - loss: 2.8358e-05 - val_loss: 0.0095\n",
      "Epoch 87/100\n",
      "13/13 [==============================] - 2s 120ms/step - loss: 2.6328e-05 - val_loss: 0.0103\n",
      "Epoch 88/100\n",
      "13/13 [==============================] - 2s 121ms/step - loss: 3.0722e-05 - val_loss: 0.0099\n",
      "Epoch 89/100\n",
      "13/13 [==============================] - 2s 121ms/step - loss: 3.0784e-05 - val_loss: 0.0086\n",
      "Epoch 90/100\n",
      "13/13 [==============================] - 2s 120ms/step - loss: 3.4684e-05 - val_loss: 0.0090\n",
      "Epoch 91/100\n",
      "13/13 [==============================] - 2s 122ms/step - loss: 3.3833e-05 - val_loss: 0.0088\n",
      "Epoch 92/100\n",
      "13/13 [==============================] - 2s 122ms/step - loss: 3.2593e-05 - val_loss: 0.0079\n",
      "Epoch 93/100\n",
      "13/13 [==============================] - 2s 122ms/step - loss: 2.8759e-05 - val_loss: 0.0093\n",
      "Epoch 94/100\n",
      "13/13 [==============================] - 2s 120ms/step - loss: 3.2442e-05 - val_loss: 0.0093\n",
      "Epoch 95/100\n",
      "13/13 [==============================] - 2s 123ms/step - loss: 2.5339e-05 - val_loss: 0.0098\n",
      "Epoch 96/100\n",
      "13/13 [==============================] - 2s 122ms/step - loss: 2.8100e-05 - val_loss: 0.0073\n",
      "Epoch 97/100\n",
      "13/13 [==============================] - 2s 122ms/step - loss: 2.5699e-05 - val_loss: 0.0102\n",
      "Epoch 98/100\n",
      "13/13 [==============================] - 2s 124ms/step - loss: 3.8257e-05 - val_loss: 0.0076\n",
      "Epoch 99/100\n",
      "13/13 [==============================] - 2s 133ms/step - loss: 3.3457e-05 - val_loss: 0.0089\n",
      "Epoch 100/100\n",
      "13/13 [==============================] - 2s 121ms/step - loss: 2.7168e-05 - val_loss: 0.0086\n"
     ]
    },
    {
     "data": {
      "text/plain": [
       "<tensorflow.python.keras.callbacks.History at 0x15bce067610>"
      ]
     },
     "execution_count": 163,
     "metadata": {},
     "output_type": "execute_result"
    }
   ],
   "source": [
    "model.fit(X_train,Y_train,validation_data=(X_test,Y_test),epochs=100,batch_size=64,verbose=1)"
   ]
  },
  {
   "cell_type": "code",
   "execution_count": 165,
   "metadata": {},
   "outputs": [],
   "source": [
    "train_predict=model.predict(X_train)\n",
    "test_predict=model.predict(X_test)"
   ]
  },
  {
   "cell_type": "code",
   "execution_count": 166,
   "metadata": {},
   "outputs": [],
   "source": [
    "train_predict=scaler.inverse_transform(train_predict)\n",
    "test_predict=scaler.inverse_transform(test_predict)"
   ]
  },
  {
   "cell_type": "code",
   "execution_count": 167,
   "metadata": {},
   "outputs": [
    {
     "data": {
      "text/plain": [
       "[<matplotlib.lines.Line2D at 0x15bd84356d0>]"
      ]
     },
     "execution_count": 167,
     "metadata": {},
     "output_type": "execute_result"
    },
    {
     "data": {
      "image/png": "[encoded data removed]",
      "text/plain": [
       "<Figure size 432x288 with 1 Axes>"
      ]
     },
     "metadata": {
      "needs_background": "light"
     },
     "output_type": "display_data"
    }
   ],
   "source": [
    "plt.plot(train_predict)"
   ]
  },
  {
   "cell_type": "code",
   "execution_count": 168,
   "metadata": {},
   "outputs": [
    {
     "data": {
      "text/plain": [
       "[<matplotlib.lines.Line2D at 0x15bd837b580>]"
      ]
     },
     "execution_count": 168,
     "metadata": {},
     "output_type": "execute_result"
    },
    {
     "data": {
      "image/png": "[encoded data removed]",
      "text/plain": [
       "<Figure size 432x288 with 1 Axes>"
      ]
     },
     "metadata": {
      "needs_background": "light"
     },
     "output_type": "display_data"
    }
   ],
   "source": [
    "plt.plot(test_predict)"
   ]
  },
  {
   "cell_type": "code",
   "execution_count": 169,
   "metadata": {},
   "outputs": [],
   "source": [
    "import math\n",
    "from sklearn.metrics import mean_squared_error"
   ]
  },
  {
   "cell_type": "code",
   "execution_count": 170,
   "metadata": {},
   "outputs": [
    {
     "data": {
      "text/plain": [
       "295.66513368751964"
      ]
     },
     "execution_count": 170,
     "metadata": {},
     "output_type": "execute_result"
    }
   ],
   "source": [
    "math.sqrt(mean_squared_error(Y_train,train_predict))"
   ]
  },
  {
   "cell_type": "code",
   "execution_count": 171,
   "metadata": {},
   "outputs": [
    {
     "data": {
      "text/plain": [
       "759.4115696500436"
      ]
     },
     "execution_count": 171,
     "metadata": {},
     "output_type": "execute_result"
    }
   ],
   "source": [
    "math.sqrt(mean_squared_error(Y_test,test_predict))"
   ]
  },
  {
   "cell_type": "code",
   "execution_count": 172,
   "metadata": {},
   "outputs": [
    {
     "data": {
      "image/png": "[encoded data removed]",
      "text/plain": [
       "<Figure size 432x288 with 1 Axes>"
      ]
     },
     "metadata": {
      "needs_background": "light"
     },
     "output_type": "display_data"
    }
   ],
   "source": [
    "### Plotting \n",
    "# shift train predictions for plotting\n",
    "look_back=100\n",
    "trainPredictPlot = np.empty_like(df1)\n",
    "trainPredictPlot[:, :] = np.nan\n",
    "trainPredictPlot[look_back:len(train_predict)+look_back, :] = train_predict\n",
    "# shift test predictions for plotting\n",
    "testPredictPlot = np.empty_like(df1)\n",
    "testPredictPlot[:, :] = np.nan\n",
    "testPredictPlot[len(train_predict)+(look_back*2)+2:len(df1)-1, :] = test_predict\n",
    "# plot baseline and predictions\n",
    "plt.plot(scaler.inverse_transform(df1))\n",
    "plt.plot(trainPredictPlot)\n",
    "plt.plot(testPredictPlot)\n",
    "plt.show()"
   ]
  },
  {
   "cell_type": "code",
   "execution_count": 399,
   "metadata": {},
   "outputs": [
    {
     "data": {
      "text/plain": [
       "array([0.12995563, 0.13706804, 0.13103827, 0.12656691, 0.12227519,\n",
       "       0.1179592 , 0.11829904, 0.11982833, 0.11732321, 0.11715329,\n",
       "       0.11928944, 0.11023022, 0.11256542, 0.10150113, 0.10755518,\n",
       "       0.11891076, 0.11749313, 0.12579984, 0.12184796, 0.11762907,\n",
       "       0.11233724, 0.115624  , 0.11301692, 0.11143423, 0.11123518,\n",
       "       0.12750876, 0.14937032, 0.15550204, 0.15081222, 0.16646438,\n",
       "       0.18274282, 0.19178262, 0.19749197, 0.18867549, 0.19700648,\n",
       "       0.18926779, 0.20119139, 0.20393926, 0.22467933, 0.2286215 ,\n",
       "       0.20658031, 0.21754751, 0.20925536, 0.22374234, 0.22054783,\n",
       "       0.2154599 , 0.23154415, 0.25052676, 0.22861179, 0.22398994,\n",
       "       0.2267281 , 0.23439396, 0.2353261 , 0.23644273, 0.25041995,\n",
       "       0.25570692, 0.2674072 , 0.26999971, 0.28013186, 0.30929031,\n",
       "       0.34035188, 0.30693569, 0.32550564, 0.32791852, 0.32335007,\n",
       "       0.31420346, 0.3231316 , 0.32599598, 0.32334521, 0.32414627,\n",
       "       0.34073056, 0.34184233, 0.33265203, 0.31870394, 0.29836196,\n",
       "       0.32083038, 0.3368418 , 0.32805445, 0.32577266, 0.32686015,\n",
       "       0.33229277, 0.32551535, 0.30384313, 0.30716387, 0.30932915,\n",
       "       0.29966793, 0.30060492, 0.29537621, 0.29242443, 0.25999379,\n",
       "       0.25239103, 0.27335444, 0.24432221, 0.24105972, 0.26190176,\n",
       "       0.24637097, 0.23023333, 0.2148142 , 0.20341007, 0.18644224])"
      ]
     },
     "execution_count": 399,
     "metadata": {},
     "output_type": "execute_result"
    }
   ],
   "source": [
    "x_input=Y_test[-100:].reshape(100)\n",
    "x_input"
   ]
  },
  {
   "cell_type": "code",
   "execution_count": 390,
   "metadata": {},
   "outputs": [],
   "source": [
    "temp_input=x_input.reshape(100).tolist()"
   ]
  },
  {
   "cell_type": "code",
   "execution_count": 391,
   "metadata": {},
   "outputs": [
    {
     "data": {
      "text/plain": [
       "[0.1299556263290254,\n",
       " 0.13706803639223603,\n",
       " 0.13103826622260628,\n",
       " 0.12656691491324318,\n",
       " 0.12227519443824096,\n",
       " 0.11795919952616297,\n",
       " 0.11829904164522421,\n",
       " 0.1198283311809999,\n",
       " 0.1173232092747769,\n",
       " 0.11715328821524627,\n",
       " 0.11928943867791704,\n",
       " 0.11023021876122689,\n",
       " 0.11256541960791926,\n",
       " 0.10150113118876773,\n",
       " 0.10755517579547329,\n",
       " 0.11891075745953449,\n",
       " 0.11749313033430754,\n",
       " 0.12579984270164773,\n",
       " 0.12184796434570681,\n",
       " 0.11762906718193204,\n",
       " 0.11233723989940674,\n",
       " 0.11562399867947061,\n",
       " 0.11301692413752924,\n",
       " 0.11143423084018679,\n",
       " 0.11123518045616519,\n",
       " 0.12750876307178438,\n",
       " 0.14937032110225362,\n",
       " 0.15550204390760175,\n",
       " 0.1508122226645564,\n",
       " 0.16646437969103495,\n",
       " 0.1827428171940692,\n",
       " 0.1917826175610987,\n",
       " 0.1974919651613279,\n",
       " 0.18867548961539576,\n",
       " 0.19700647641981178,\n",
       " 0.18926778588004545,\n",
       " 0.2011913893716804,\n",
       " 0.20393925564866144,\n",
       " 0.22467933468622858,\n",
       " 0.2286215032673392,\n",
       " 0.20658031440250896,\n",
       " 0.21754750507335735,\n",
       " 0.20925535736826262,\n",
       " 0.22374234141510257,\n",
       " 0.22054782549592672,\n",
       " 0.21545990348483812,\n",
       " 0.231544145491266,\n",
       " 0.2505267552845449,\n",
       " 0.22861179349250887,\n",
       " 0.22398994067327577,\n",
       " 0.22672809717542647,\n",
       " 0.23439396440396543,\n",
       " 0.23532610278767635,\n",
       " 0.2364427268931633,\n",
       " 0.25041994776141135,\n",
       " 0.2557069201565215,\n",
       " 0.26740719882705916,\n",
       " 0.26999970870675505,\n",
       " 0.2801318587421957,\n",
       " 0.3092903125576517,\n",
       " 0.3403518822398508,\n",
       " 0.30693569216129873,\n",
       " 0.325505636524289,\n",
       " 0.32791851556962387,\n",
       " 0.3233500665119575,\n",
       " 0.3142034586217945,\n",
       " 0.3231315965782753,\n",
       " 0.32599598015322023,\n",
       " 0.3233452116245424,\n",
       " 0.3241462680480439,\n",
       " 0.3407305634582333,\n",
       " 0.3418423326763052,\n",
       " 0.3326520307994057,\n",
       " 0.3187039392556486,\n",
       " 0.29836196098612466,\n",
       " 0.320830379943489,\n",
       " 0.3368417986386895,\n",
       " 0.3280544524172484,\n",
       " 0.3257726553321228,\n",
       " 0.3268601501131188,\n",
       " 0.3322927691306838,\n",
       " 0.32551534629911927,\n",
       " 0.3038431288778413,\n",
       " 0.30716387186981126,\n",
       " 0.309329151656973,\n",
       " 0.299667925700803,\n",
       " 0.300604918971929,\n",
       " 0.29537620522580077,\n",
       " 0.29242443367738297,\n",
       " 0.25999378574410853,\n",
       " 0.25239103205196667,\n",
       " 0.2733544359106312,\n",
       " 0.24432220916796937,\n",
       " 0.24105972482498128,\n",
       " 0.26190175649826675,\n",
       " 0.24637097165716726,\n",
       " 0.2302333258891726,\n",
       " 0.2148142034586218,\n",
       " 0.20341007292040897,\n",
       " 0.18644224140442178]"
      ]
     },
     "execution_count": 391,
     "metadata": {},
     "output_type": "execute_result"
    }
   ],
   "source": [
    "temp_input"
   ]
  },
  {
   "cell_type": "code",
   "execution_count": 392,
   "metadata": {},
   "outputs": [
    {
     "data": {
      "text/plain": [
       "100"
      ]
     },
     "execution_count": 392,
     "metadata": {},
     "output_type": "execute_result"
    }
   ],
   "source": [
    "len(temp_input)"
   ]
  },
  {
   "cell_type": "code",
   "execution_count": 400,
   "metadata": {},
   "outputs": [
    {
     "name": "stdout",
     "output_type": "stream",
     "text": [
      "[[543.6]]\n",
      "[[519.5]]\n",
      "[[501.15067]]\n",
      "[[487.2818]]\n",
      "[[477.01385]]\n",
      "[[469.57663]]\n",
      "[[464.20477]]\n",
      "[[460.17847]]\n",
      "[[456.88715]]\n",
      "[[453.86917]]\n",
      "[[450.82224]]\n",
      "[[447.59058]]\n",
      "[[444.13733]]\n",
      "[[440.51044]]\n",
      "[[436.80795]]\n",
      "[[433.14642]]\n",
      "[[429.63702]]\n",
      "[[426.36884]]\n",
      "[[423.40042]]\n",
      "[[420.75812]]\n",
      "[[418.439]]\n",
      "[[416.41736]]\n",
      "[[414.65256]]\n",
      "[[413.09656]]\n",
      "[[411.70068]]\n",
      "[[410.4205]]\n",
      "[[409.2196]]\n",
      "[[408.0706]]\n",
      "[[406.95538]]\n",
      "[[405.86423]]\n"
     ]
    }
   ],
   "source": [
    "from numpy import array\n",
    "\n",
    "lst_output=[]\n",
    "n_steps=100\n",
    "i=0\n",
    "while(i<30):\n",
    "    t=model.predict(x_input.reshape(1,100,1))\n",
    "    print(scaler.inverse_transform(np.array(t[0]).reshape(-1,1)))\n",
    "    lst_output.append(t[0][0])\n",
    "    x_input=np.append(x_input,t[0][0])\n",
    "    x_input=np.array(x_input[1:])\n",
    "    i=i+1"
   ]
  },
  {
   "cell_type": "code",
   "execution_count": 401,
   "metadata": {},
   "outputs": [],
   "source": [
    "predict_30=np.array(lst_output)"
   ]
  },
  {
   "cell_type": "code",
   "execution_count": 402,
   "metadata": {},
   "outputs": [],
   "source": [
    "predict_30=predict_30.reshape(-1,1)"
   ]
  },
  {
   "cell_type": "code",
   "execution_count": 403,
   "metadata": {},
   "outputs": [
    {
     "data": {
      "text/plain": [
       "[<matplotlib.lines.Line2D at 0x15bdb8f9970>]"
      ]
     },
     "execution_count": 403,
     "metadata": {},
     "output_type": "execute_result"
    },
    {
     "data": {
      "image/png": "[encoded data removed]",
      "text/plain": [
       "<Figure size 432x288 with 1 Axes>"
      ]
     },
     "metadata": {
      "needs_background": "light"
     },
     "output_type": "display_data"
    }
   ],
   "source": [
    "plt.plot(scaler.inverse_transform(predict_30))"
   ]
  },
  {
   "cell_type": "code",
   "execution_count": 404,
   "metadata": {},
   "outputs": [],
   "source": [
    "day_new=np.arange(1,101)\n",
    "day_pred=np.arange(101,131)"
   ]
  },
  {
   "cell_type": "code",
   "execution_count": 405,
   "metadata": {},
   "outputs": [
    {
     "data": {
      "text/plain": [
       "array([[446.65],\n",
       "       [461.3 ],\n",
       "       [448.88],\n",
       "       [439.67],\n",
       "       [430.83],\n",
       "       [421.94],\n",
       "       [422.64],\n",
       "       [425.79],\n",
       "       [420.63],\n",
       "       [420.28],\n",
       "       [424.68],\n",
       "       [406.02],\n",
       "       [410.83],\n",
       "       [388.04],\n",
       "       [400.51],\n",
       "       [423.9 ],\n",
       "       [420.98],\n",
       "       [438.09],\n",
       "       [429.95],\n",
       "       [421.26],\n",
       "       [410.36],\n",
       "       [417.13],\n",
       "       [411.76],\n",
       "       [408.5 ],\n",
       "       [408.09],\n",
       "       [441.61],\n",
       "       [486.64],\n",
       "       [499.27],\n",
       "       [489.61],\n",
       "       [521.85],\n",
       "       [555.38],\n",
       "       [574.  ],\n",
       "       [585.76],\n",
       "       [567.6 ],\n",
       "       [584.76],\n",
       "       [568.82],\n",
       "       [593.38],\n",
       "       [599.04],\n",
       "       [641.76],\n",
       "       [649.88],\n",
       "       [604.48],\n",
       "       [627.07],\n",
       "       [609.99],\n",
       "       [639.83],\n",
       "       [633.25],\n",
       "       [622.77],\n",
       "       [655.9 ],\n",
       "       [695.  ],\n",
       "       [649.86],\n",
       "       [640.34],\n",
       "       [645.98],\n",
       "       [661.77],\n",
       "       [663.69],\n",
       "       [665.99],\n",
       "       [694.78],\n",
       "       [705.67],\n",
       "       [729.77],\n",
       "       [735.11],\n",
       "       [755.98],\n",
       "       [816.04],\n",
       "       [880.02],\n",
       "       [811.19],\n",
       "       [849.44],\n",
       "       [854.41],\n",
       "       [845.  ],\n",
       "       [826.16],\n",
       "       [844.55],\n",
       "       [850.45],\n",
       "       [844.99],\n",
       "       [846.64],\n",
       "       [880.8 ],\n",
       "       [883.09],\n",
       "       [864.16],\n",
       "       [835.43],\n",
       "       [793.53],\n",
       "       [839.81],\n",
       "       [872.79],\n",
       "       [854.69],\n",
       "       [849.99],\n",
       "       [852.23],\n",
       "       [863.42],\n",
       "       [849.46],\n",
       "       [804.82],\n",
       "       [811.66],\n",
       "       [816.12],\n",
       "       [796.22],\n",
       "       [798.15],\n",
       "       [787.38],\n",
       "       [781.3 ],\n",
       "       [714.5 ],\n",
       "       [698.84],\n",
       "       [742.02],\n",
       "       [682.22],\n",
       "       [675.5 ],\n",
       "       [718.43],\n",
       "       [686.44],\n",
       "       [653.2 ],\n",
       "       [621.44],\n",
       "       [597.95],\n",
       "       [563.  ]])"
      ]
     },
     "execution_count": 405,
     "metadata": {},
     "output_type": "execute_result"
    }
   ],
   "source": [
    "y1=scaler.inverse_transform(Y_test[-100:].reshape(-1,1))\n",
    "y1"
   ]
  },
  {
   "cell_type": "code",
   "execution_count": 406,
   "metadata": {},
   "outputs": [
    {
     "data": {
      "text/plain": [
       "array([[543.6    ],\n",
       "       [519.5    ],\n",
       "       [501.15067],\n",
       "       [487.2818 ],\n",
       "       [477.01385],\n",
       "       [469.57663],\n",
       "       [464.20477],\n",
       "       [460.17847],\n",
       "       [456.88715],\n",
       "       [453.86917],\n",
       "       [450.82224],\n",
       "       [447.59058],\n",
       "       [444.13733],\n",
       "       [440.51044],\n",
       "       [436.80795],\n",
       "       [433.14642],\n",
       "       [429.63702],\n",
       "       [426.36884],\n",
       "       [423.40042],\n",
       "       [420.75812],\n",
       "       [418.439  ],\n",
       "       [416.41736],\n",
       "       [414.65256],\n",
       "       [413.09656],\n",
       "       [411.70068],\n",
       "       [410.4205 ],\n",
       "       [409.2196 ],\n",
       "       [408.0706 ],\n",
       "       [406.95538],\n",
       "       [405.86423]], dtype=float32)"
      ]
     },
     "execution_count": 406,
     "metadata": {},
     "output_type": "execute_result"
    }
   ],
   "source": [
    "y2=scaler.inverse_transform(predict_30)\n",
    "y2"
   ]
  },
  {
   "cell_type": "code",
   "execution_count": 407,
   "metadata": {},
   "outputs": [
    {
     "data": {
      "text/plain": [
       "[<matplotlib.lines.Line2D at 0x15bdb920be0>]"
      ]
     },
     "execution_count": 407,
     "metadata": {},
     "output_type": "execute_result"
    },
    {
     "data": {
      "image/png": "[encoded data removed]",
      "text/plain": [
       "<Figure size 432x288 with 1 Axes>"
      ]
     },
     "metadata": {
      "needs_background": "light"
     },
     "output_type": "display_data"
    }
   ],
   "source": [
    "plt.plot(day_new,y1,\"g\")\n",
    "plt.plot(day_pred,y2,\"b\")"
   ]
  }
 ],
 "metadata": {
  "kernelspec": {
   "display_name": "Python 3",
   "language": "python",
   "name": "python3"
  },
  "language_info": {
   "codemirror_mode": {
    "name": "ipython",
    "version": 3
   },
   "file_extension": ".py",
   "mimetype": "text/x-python",
   "name": "python",
   "nbconvert_exporter": "python",
   "pygments_lexer": "ipython3",
   "version": "3.8.5"
  }
 },
 "nbformat": 4,
 "nbformat_minor": 4
}
